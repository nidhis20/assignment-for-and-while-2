{
 "cells": [
  {
   "cell_type": "markdown",
   "id": "59d53fd0-a358-4ee6-b80a-316910c4983b",
   "metadata": {},
   "source": [
    "ans1\n",
    "\n",
    "for loop basically use when you know the number of iterations in advance,like iteratning throught a list or arrays\n",
    "while loop on the other hand , are when you want to iterate until hand, are used when want to iterate until a certain condition is met , whitch might not be known beforehand. \n",
    "....so, for loops are grate for definite iterations, while lops are better for indefinite iterations.\n"
   ]
  },
  {
   "cell_type": "code",
   "execution_count": 3,
   "id": "d36995ef-620b-4107-96fc-972ce80f979b",
   "metadata": {},
   "outputs": [
    {
     "name": "stdout",
     "output_type": "stream",
     "text": [
      " apple \n",
      "bannana\n",
      "orange\n"
     ]
    }
   ],
   "source": [
    "# for example \n",
    "\n",
    "fruits = [\" apple \", \"bannana\", \"orange\"]\n",
    "for fruit in fruits:\n",
    "    print(fruit)"
   ]
  },
  {
   "cell_type": "code",
   "execution_count": 4,
   "id": "b0f6003a-7dce-4bae-9de8-bc9ebaf15ee3",
   "metadata": {},
   "outputs": [
    {
     "name": "stdout",
     "output_type": "stream",
     "text": [
      "0\n",
      "1\n",
      "2\n",
      "3\n",
      "4\n"
     ]
    }
   ],
   "source": [
    "count = 0 \n",
    "while count < 5 :\n",
    "    print(count)\n",
    "    count += 1"
   ]
  },
  {
   "cell_type": "code",
   "execution_count": 8,
   "id": "cee29ada-6920-4835-a1a5-e598b222aaa4",
   "metadata": {},
   "outputs": [
    {
     "name": "stdout",
     "output_type": "stream",
     "text": [
      "sum using for loop:  66\n"
     ]
    }
   ],
   "source": [
    "# ans 2\n",
    "\n",
    "# usinf a for loop\n",
    "\n",
    "total = 0\n",
    "for i in range(1 , 12):\n",
    "    total += i\n",
    "print(\"sum using for loop: \" , total)    \n"
   ]
  },
  {
   "cell_type": "code",
   "execution_count": 9,
   "id": "c1e5af42-4074-48bf-90c9-00a2d66e4800",
   "metadata": {},
   "outputs": [
    {
     "name": "stdout",
     "output_type": "stream",
     "text": [
      "sum while loop : 0\n"
     ]
    }
   ],
   "source": [
    "#ans 5\n",
    "\n",
    "# while loop \n",
    "total = 0\n",
    "count = 1\n",
    "while count <= 10:\n",
    "    count += 1\n",
    "print(\"sum while loop :\" , total)    "
   ]
  },
  {
   "cell_type": "code",
   "execution_count": 14,
   "id": "b838a0ed-71df-43ed-b702-58197d5dfdf1",
   "metadata": {},
   "outputs": [
    {
     "name": "stdout",
     "output_type": "stream",
     "text": [
      "number of vowel: 1\n"
     ]
    }
   ],
   "source": [
    "#string to count vowels\n",
    "string = \"i want to become a data scientist\"\n",
    "\n",
    "def count_vowel (string):\n",
    "    #define a set of vowels\n",
    "    vowels  = {'a','e','i','o','u'}\n",
    "    count = 0\n",
    "    string = string.lower()\n",
    "    for char in string :\n",
    "        \n",
    "        if char in vowels:\n",
    "            count +=1 \n",
    "            return count\n",
    "print(\"number of vowel:\" , count_vowel(string))        "
   ]
  },
  {
   "cell_type": "code",
   "execution_count": 15,
   "id": "006ee6e0-7af1-44af-9135-43e60db05128",
   "metadata": {},
   "outputs": [
    {
     "ename": "NameError",
     "evalue": "name 'cubes_divisible_by_4_or_5' is not defined",
     "output_type": "error",
     "traceback": [
      "\u001b[0;31m---------------------------------------------------------------------------\u001b[0m",
      "\u001b[0;31mNameError\u001b[0m                                 Traceback (most recent call last)",
      "Cell \u001b[0;32mIn[15], line 6\u001b[0m\n\u001b[1;32m      4\u001b[0m     cube \u001b[38;5;241m=\u001b[39m i \u001b[38;5;241m*\u001b[39m\u001b[38;5;241m*\u001b[39m \u001b[38;5;241m3\u001b[39m\n\u001b[1;32m      5\u001b[0m     \u001b[38;5;28;01mif\u001b[39;00m cube \u001b[38;5;241m%\u001b[39m \u001b[38;5;241m4\u001b[39m \u001b[38;5;241m==\u001b[39m \u001b[38;5;241m0\u001b[39m \u001b[38;5;129;01mor\u001b[39;00m cube \u001b[38;5;241m%\u001b[39m \u001b[38;5;241m5\u001b[39m \u001b[38;5;241m==\u001b[39m \u001b[38;5;241m0\u001b[39m:\n\u001b[0;32m----> 6\u001b[0m         \u001b[43mcubes_divisible_by_4_or_5\u001b[49m\u001b[38;5;241m.\u001b[39mappend(cube)\n\u001b[1;32m      7\u001b[0m peint(\u001b[38;5;124m\"\u001b[39m\u001b[38;5;124musing for loop:\u001b[39m\u001b[38;5;124m\"\u001b[39m , cubes_divisible_by_4_or_5)        \n",
      "\u001b[0;31mNameError\u001b[0m: name 'cubes_divisible_by_4_or_5' is not defined"
     ]
    }
   ],
   "source": [
    "#and 4\n",
    "# using a for loop\n",
    "cube_divisible_by_4_or_5 = []\n",
    "for i in range(1 , 100):\n",
    "    cube = i ** 3\n",
    "    if cube % 4 == 0 or cube % 5 == 0:\n",
    "        cubes_divisible_by_4_or_5.append(cube)\n",
    "peint(\"using for loop:\" , cubes_divisible_by_4_or_5)        "
   ]
  },
  {
   "cell_type": "code",
   "execution_count": null,
   "id": "6b6b641c-a255-4e1e-9c49-78aaa90e173a",
   "metadata": {},
   "outputs": [],
   "source": []
  },
  {
   "cell_type": "code",
   "execution_count": null,
   "id": "a4fc487b-af2e-4681-95d8-a05c6d77c67b",
   "metadata": {},
   "outputs": [],
   "source": []
  },
  {
   "cell_type": "code",
   "execution_count": null,
   "id": "5eb654e5-c995-449c-8e6f-e57c1ecac972",
   "metadata": {},
   "outputs": [],
   "source": []
  }
 ],
 "metadata": {
  "kernelspec": {
   "display_name": "Python 3 (ipykernel)",
   "language": "python",
   "name": "python3"
  },
  "language_info": {
   "codemirror_mode": {
    "name": "ipython",
    "version": 3
   },
   "file_extension": ".py",
   "mimetype": "text/x-python",
   "name": "python",
   "nbconvert_exporter": "python",
   "pygments_lexer": "ipython3",
   "version": "3.10.8"
  }
 },
 "nbformat": 4,
 "nbformat_minor": 5
}
